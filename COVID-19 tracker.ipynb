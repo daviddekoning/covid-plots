{
 "cells": [
  {
   "cell_type": "code",
   "execution_count": 159,
   "metadata": {},
   "outputs": [],
   "source": [
    "import pandas as pd\n",
    "from sqlite3 import connect\n",
    "import plotly.express as px"
   ]
  },
  {
   "cell_type": "markdown",
   "metadata": {},
   "source": [
    "# Get WHO data"
   ]
  },
  {
   "cell_type": "code",
   "execution_count": 160,
   "metadata": {},
   "outputs": [],
   "source": [
    "who_url = r'https://covid.ourworldindata.org/data/full_data.csv'"
   ]
  },
  {
   "cell_type": "code",
   "execution_count": 161,
   "metadata": {},
   "outputs": [
    {
     "name": "stdout",
     "output_type": "stream",
     "text": [
      "         date     location  new_cases  new_deaths  total_cases  total_deaths\n",
      "0  2020-02-25  Afghanistan        NaN         NaN            1           NaN\n",
      "1  2020-02-26  Afghanistan        0.0         NaN            1           NaN\n",
      "2  2020-02-27  Afghanistan        0.0         NaN            1           NaN\n"
     ]
    }
   ],
   "source": [
    "who_data = pd.read_csv(who_url)\n",
    "print(who_data.head(3))\n",
    "with connect(\"covid-19.db\") as conn:\n",
    "  who_data.to_sql('who_data',conn,if_exists=\"replace\")"
   ]
  },
  {
   "cell_type": "markdown",
   "metadata": {},
   "source": [
    "# Plot Data"
   ]
  },
  {
   "cell_type": "code",
   "execution_count": 162,
   "metadata": {},
   "outputs": [],
   "source": [
    "px.line(who_data,x='date',y='total_cases',color='location').write_html('raw_plot.html',auto_open=True)"
   ]
  },
  {
   "cell_type": "code",
   "execution_count": 170,
   "metadata": {},
   "outputs": [],
   "source": [
    "def plot_who(starting_threshold=100):\n",
    "    sql = '''select who_data.location, who_data.date, who_data.total_cases, who_data.new_cases,\n",
    "      julianday(who_data.date) - julianday(day_n.date) as day \n",
    "      from who_data left join (select location, min(date) as date from who_data where total_cases > ? GROUP by location) as day_n\n",
    "      on who_data.location = day_n.location \n",
    "      where day is not NULL and day >= 0 and who_data.location != \"International\"'''\n",
    "    with connect(\"covid-19.db\") as conn:\n",
    "        px.line(pd.read_sql(sql,conn,params=[starting_threshold]),\n",
    "                x='day',y='total_cases',\n",
    "                hover_name='location',\n",
    "                hover_data=['total_cases','new_cases','date'],\n",
    "                color='location',\n",
    "                range_x = [0,10],\n",
    "                range_y = [0,7500]\n",
    "               ).write_html(f\"plot-who-{starting_threshold}.html\",auto_open=True)"
   ]
  },
  {
   "cell_type": "code",
   "execution_count": 171,
   "metadata": {},
   "outputs": [],
   "source": [
    "plot_who(50)"
   ]
  },
  {
   "cell_type": "markdown",
   "metadata": {},
   "source": [
    "# Get John Hopkins data"
   ]
  },
  {
   "cell_type": "code",
   "execution_count": 172,
   "metadata": {},
   "outputs": [],
   "source": [
    "john_hopkins_url = r'https://raw.githubusercontent.com/CSSEGISandData/COVID-19/master/csse_covid_19_data/csse_covid_19_time_series/time_series_19-covid-Confirmed.csv'"
   ]
  },
  {
   "cell_type": "code",
   "execution_count": 173,
   "metadata": {},
   "outputs": [
    {
     "data": {
      "text/html": [
       "<div>\n",
       "<style scoped>\n",
       "    .dataframe tbody tr th:only-of-type {\n",
       "        vertical-align: middle;\n",
       "    }\n",
       "\n",
       "    .dataframe tbody tr th {\n",
       "        vertical-align: top;\n",
       "    }\n",
       "\n",
       "    .dataframe thead th {\n",
       "        text-align: right;\n",
       "    }\n",
       "</style>\n",
       "<table border=\"1\" class=\"dataframe\">\n",
       "  <thead>\n",
       "    <tr style=\"text-align: right;\">\n",
       "      <th></th>\n",
       "      <th>Province/State</th>\n",
       "      <th>Country/Region</th>\n",
       "      <th>Lat</th>\n",
       "      <th>Long</th>\n",
       "      <th>1/22/20</th>\n",
       "      <th>1/23/20</th>\n",
       "      <th>1/24/20</th>\n",
       "      <th>1/25/20</th>\n",
       "      <th>1/26/20</th>\n",
       "      <th>1/27/20</th>\n",
       "      <th>...</th>\n",
       "      <th>3/4/20</th>\n",
       "      <th>3/5/20</th>\n",
       "      <th>3/6/20</th>\n",
       "      <th>3/7/20</th>\n",
       "      <th>3/8/20</th>\n",
       "      <th>3/9/20</th>\n",
       "      <th>3/10/20</th>\n",
       "      <th>3/11/20</th>\n",
       "      <th>3/12/20</th>\n",
       "      <th>3/13/20</th>\n",
       "    </tr>\n",
       "  </thead>\n",
       "  <tbody>\n",
       "    <tr>\n",
       "      <th>0</th>\n",
       "      <td>NaN</td>\n",
       "      <td>Thailand</td>\n",
       "      <td>15.0000</td>\n",
       "      <td>101.0000</td>\n",
       "      <td>2</td>\n",
       "      <td>3</td>\n",
       "      <td>5</td>\n",
       "      <td>7</td>\n",
       "      <td>8</td>\n",
       "      <td>8</td>\n",
       "      <td>...</td>\n",
       "      <td>43</td>\n",
       "      <td>47</td>\n",
       "      <td>48</td>\n",
       "      <td>50</td>\n",
       "      <td>50</td>\n",
       "      <td>50</td>\n",
       "      <td>53</td>\n",
       "      <td>59</td>\n",
       "      <td>70</td>\n",
       "      <td>75</td>\n",
       "    </tr>\n",
       "    <tr>\n",
       "      <th>1</th>\n",
       "      <td>NaN</td>\n",
       "      <td>Japan</td>\n",
       "      <td>36.0000</td>\n",
       "      <td>138.0000</td>\n",
       "      <td>2</td>\n",
       "      <td>1</td>\n",
       "      <td>2</td>\n",
       "      <td>2</td>\n",
       "      <td>4</td>\n",
       "      <td>4</td>\n",
       "      <td>...</td>\n",
       "      <td>331</td>\n",
       "      <td>360</td>\n",
       "      <td>420</td>\n",
       "      <td>461</td>\n",
       "      <td>502</td>\n",
       "      <td>511</td>\n",
       "      <td>581</td>\n",
       "      <td>639</td>\n",
       "      <td>639</td>\n",
       "      <td>701</td>\n",
       "    </tr>\n",
       "    <tr>\n",
       "      <th>2</th>\n",
       "      <td>NaN</td>\n",
       "      <td>Singapore</td>\n",
       "      <td>1.2833</td>\n",
       "      <td>103.8333</td>\n",
       "      <td>0</td>\n",
       "      <td>1</td>\n",
       "      <td>3</td>\n",
       "      <td>3</td>\n",
       "      <td>4</td>\n",
       "      <td>5</td>\n",
       "      <td>...</td>\n",
       "      <td>110</td>\n",
       "      <td>117</td>\n",
       "      <td>130</td>\n",
       "      <td>138</td>\n",
       "      <td>150</td>\n",
       "      <td>150</td>\n",
       "      <td>160</td>\n",
       "      <td>178</td>\n",
       "      <td>178</td>\n",
       "      <td>200</td>\n",
       "    </tr>\n",
       "  </tbody>\n",
       "</table>\n",
       "<p>3 rows × 56 columns</p>\n",
       "</div>"
      ],
      "text/plain": [
       "  Province/State Country/Region      Lat      Long  1/22/20  1/23/20  1/24/20  \\\n",
       "0            NaN       Thailand  15.0000  101.0000        2        3        5   \n",
       "1            NaN          Japan  36.0000  138.0000        2        1        2   \n",
       "2            NaN      Singapore   1.2833  103.8333        0        1        3   \n",
       "\n",
       "   1/25/20  1/26/20  1/27/20  ...  3/4/20  3/5/20  3/6/20  3/7/20  3/8/20  \\\n",
       "0        7        8        8  ...      43      47      48      50      50   \n",
       "1        2        4        4  ...     331     360     420     461     502   \n",
       "2        3        4        5  ...     110     117     130     138     150   \n",
       "\n",
       "   3/9/20  3/10/20  3/11/20  3/12/20  3/13/20  \n",
       "0      50       53       59       70       75  \n",
       "1     511      581      639      639      701  \n",
       "2     150      160      178      178      200  \n",
       "\n",
       "[3 rows x 56 columns]"
      ]
     },
     "execution_count": 173,
     "metadata": {},
     "output_type": "execute_result"
    }
   ],
   "source": [
    "jh_data = pd.read_csv(john_hopkins_url)\n",
    "jh_data.head(3)"
   ]
  },
  {
   "cell_type": "code",
   "execution_count": 174,
   "metadata": {},
   "outputs": [],
   "source": [
    "with connect(\"covid-19.db\") as conn:\n",
    "  pd.melt(\n",
    "      jh_data, \n",
    "      id_vars=['Country/Region','Province/State','Lat','Long'],\n",
    "      var_name='date',\n",
    "      value_name=\"confirmed\"\n",
    "      ).astype( {'date': 'datetime64[ns]'}\n",
    "      ).rename( columns={\"Country/Region\": 'country','Province/State':'province'}\n",
    "      ).to_sql( 'jh_data', conn,if_exists=\"replace\")\n",
    "  "
   ]
  },
  {
   "cell_type": "code",
   "execution_count": 181,
   "metadata": {},
   "outputs": [],
   "source": [
    "def plot_jh(starting_threshold=100):\n",
    "    sql = '''select jh_agg.country, jh_agg.date, jh_agg.confirmed,\n",
    "      julianday(jh_agg.date) - julianday(day_n.date) as day \n",
    "      from (select country, date, sum(confirmed) as confirmed from jh_data group by country, date) as jh_agg\n",
    "      left join \n",
    "      (select country, min(date) as date from jh_data where confirmed > ? GROUP by country) as day_n\n",
    "      on jh_agg.country = day_n.country \n",
    "      where day is not null and day >= 0'''\n",
    "    with connect(\"covid-19.db\") as conn:\n",
    "        px.line(pd.read_sql(sql,conn,params=[starting_threshold]),\n",
    "                x = 'day',y = 'confirmed',\n",
    "                hover_name = 'country',\n",
    "                color = 'country',\n",
    "                hover_data = ['confirmed','date'],\n",
    "                range_x = [0, 10],\n",
    "                range_y = [0, 7500]\n",
    "               ).write_html(f\"plot-jh-{starting_threshold}.html\",auto_open=True)"
   ]
  },
  {
   "cell_type": "code",
   "execution_count": 182,
   "metadata": {},
   "outputs": [],
   "source": [
    "plot_jh(50)"
   ]
  },
  {
   "cell_type": "code",
   "execution_count": null,
   "metadata": {},
   "outputs": [],
   "source": []
  }
 ],
 "metadata": {
  "kernelspec": {
   "display_name": "Python 3",
   "language": "python",
   "name": "python3"
  },
  "language_info": {
   "codemirror_mode": {
    "name": "ipython",
    "version": 3
   },
   "file_extension": ".py",
   "mimetype": "text/x-python",
   "name": "python",
   "nbconvert_exporter": "python",
   "pygments_lexer": "ipython3",
   "version": "3.7.4"
  }
 },
 "nbformat": 4,
 "nbformat_minor": 4
}
