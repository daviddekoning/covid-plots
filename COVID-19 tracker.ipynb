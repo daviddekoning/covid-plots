{
 "cells": [
  {
   "cell_type": "code",
   "execution_count": 113,
   "metadata": {},
   "outputs": [],
   "source": [
    "import pandas as pd\n",
    "from sqlite3 import connect\n",
    "import plotly.express as px"
   ]
  },
  {
   "cell_type": "markdown",
   "metadata": {},
   "source": [
    "# Update data"
   ]
  },
  {
   "cell_type": "code",
   "execution_count": 1,
   "metadata": {},
   "outputs": [],
   "source": [
    "data_url = r'https://covid.ourworldindata.org/data/full_data.csv'"
   ]
  },
  {
   "cell_type": "code",
   "execution_count": 114,
   "metadata": {},
   "outputs": [],
   "source": [
    "source_data = pd.read_csv(data_url)\n",
    "with connect(\"covid-19.db\") as conn:\n",
    "  source_data.to_sql('source_data',conn,if_exists=\"replace\")"
   ]
  },
  {
   "cell_type": "markdown",
   "metadata": {},
   "source": [
    "# Plot Data"
   ]
  },
  {
   "cell_type": "code",
   "execution_count": 105,
   "metadata": {},
   "outputs": [],
   "source": [
    "def plot_cases(starting_threshold=100):\n",
    "    sql = '''select source_data.location, source_data.date, source_data.total_cases, source_data.new_cases,\n",
    "      julianday(source_data.date) - julianday(day_n.date) as day \n",
    "      from source_data left join (select location, min(date) as date from source_data where total_cases > ? GROUP by location) as day_n\n",
    "      on source_data.location = day_n.location \n",
    "      where day is not NULL and day >= 0 and source_data.location != \"International\"'''\n",
    "    with connect(\"covid-19.db\") as conn:\n",
    "        px.line(pd.read_sql(sql,conn,params=[starting_threshold]),\n",
    "                x='day',y='total_cases',\n",
    "                hover_name='location',\n",
    "                hover_data=['total_cases','new_cases'],\n",
    "                color='location'\n",
    "               ).write_html(f\"plot-{starting_threshold}.html\",auto_open=True)"
   ]
  },
  {
   "cell_type": "code",
   "execution_count": 112,
   "metadata": {},
   "outputs": [],
   "source": [
    "plot_cases(150)"
   ]
  }
 ],
 "metadata": {
  "kernelspec": {
   "display_name": "Python 3",
   "language": "python",
   "name": "python3"
  },
  "language_info": {
   "codemirror_mode": {
    "name": "ipython",
    "version": 3
   },
   "file_extension": ".py",
   "mimetype": "text/x-python",
   "name": "python",
   "nbconvert_exporter": "python",
   "pygments_lexer": "ipython3",
   "version": "3.7.4"
  }
 },
 "nbformat": 4,
 "nbformat_minor": 4
}
